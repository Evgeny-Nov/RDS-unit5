{
 "cells": [
  {
   "cell_type": "code",
   "execution_count": 1,
   "metadata": {
    "_cell_guid": "b1076dfc-b9ad-4769-8c92-a6c4dae69d19",
    "_uuid": "8f2839f25d086af736a60e9eeb907d3b93b6e0e5",
    "execution": {
     "iopub.execute_input": "2022-02-02T22:17:32.266727Z",
     "iopub.status.busy": "2022-02-02T22:17:32.266395Z",
     "iopub.status.idle": "2022-02-02T22:17:32.283258Z",
     "shell.execute_reply": "2022-02-02T22:17:32.282286Z",
     "shell.execute_reply.started": "2022-02-02T22:17:32.266647Z"
    }
   },
   "outputs": [],
   "source": [
    "# This Python 3 environment comes with many helpful analytics libraries installed\n",
    "# It is defined by the kaggle/python Docker image: https://github.com/kaggle/docker-python\n",
    "# For example, here's several helpful packages to load\n",
    "\n",
    "import numpy as np # linear algebra\n",
    "import pandas as pd # data processing, CSV file I/O (e.g. pd.read_csv)\n",
    "\n",
    "# Input data files are available in the read-only \"../input/\" directory\n",
    "# For example, running this (by clicking run or pressing Shift+Enter) will list all files under the input directory\n",
    "\n",
    "import os\n",
    "for dirname, _, filenames in os.walk('/kaggle/input'):\n",
    "    for filename in filenames:\n",
    "        print(os.path.join(dirname, filename))\n",
    "\n",
    "# You can write up to 20GB to the current directory (/kaggle/working/) that gets preserved as output when you create a version using \"Save & Run All\" \n",
    "# You can also write temporary files to /kaggle/temp/, but they won't be saved outside of the current session"
   ]
  },
  {
   "cell_type": "code",
   "execution_count": 24,
   "metadata": {
    "execution": {
     "iopub.execute_input": "2022-02-02T22:20:57.516435Z",
     "iopub.status.busy": "2022-02-02T22:20:57.516050Z",
     "iopub.status.idle": "2022-02-02T22:20:57.524371Z",
     "shell.execute_reply": "2022-02-02T22:20:57.523356Z",
     "shell.execute_reply.started": "2022-02-02T22:20:57.516394Z"
    }
   },
   "outputs": [],
   "source": [
    "from pandas import Series\n",
    "import pandas as pd\n",
    "import numpy as np\n",
    "\n",
    "import matplotlib as mpl\n",
    "import matplotlib.pyplot as plt\n",
    "import seaborn as sns\n",
    "\n",
    "from sklearn.feature_selection import f_classif, mutual_info_classif\n",
    "from sklearn.preprocessing import LabelEncoder, OneHotEncoder, StandardScaler\n",
    "\n",
    "from sklearn.model_selection import train_test_split\n",
    "from sklearn.linear_model import LogisticRegression\n",
    "\n",
    "\n",
    "from sklearn.metrics import confusion_matrix\n",
    "from sklearn.metrics import auc, roc_auc_score, roc_curve"
   ]
  },
  {
   "cell_type": "code",
   "execution_count": 25,
   "metadata": {
    "execution": {
     "iopub.execute_input": "2022-02-02T22:20:58.043973Z",
     "iopub.status.busy": "2022-02-02T22:20:58.043572Z",
     "iopub.status.idle": "2022-02-02T22:20:58.048194Z",
     "shell.execute_reply": "2022-02-02T22:20:58.047183Z",
     "shell.execute_reply.started": "2022-02-02T22:20:58.043928Z"
    }
   },
   "outputs": [],
   "source": [
    "import warnings\n",
    "warnings.filterwarnings(\"ignore\")"
   ]
  },
  {
   "cell_type": "code",
   "execution_count": 26,
   "metadata": {
    "execution": {
     "iopub.execute_input": "2022-02-02T22:20:58.627979Z",
     "iopub.status.busy": "2022-02-02T22:20:58.627619Z",
     "iopub.status.idle": "2022-02-02T22:20:58.959807Z",
     "shell.execute_reply": "2022-02-02T22:20:58.958904Z",
     "shell.execute_reply.started": "2022-02-02T22:20:58.627942Z"
    }
   },
   "outputs": [],
   "source": [
    "DATA_DIR = '/kaggle/input/sf-scoring/'\n",
    "train = pd.read_csv(DATA_DIR +'/train.csv')\n",
    "test = pd.read_csv(DATA_DIR +'/test.csv')\n",
    "sample_submission = pd.read_csv(DATA_DIR+'/sample_submission.csv')"
   ]
  },
  {
   "cell_type": "markdown",
   "metadata": {},
   "source": [
    "**Предварительная обработка**"
   ]
  },
  {
   "cell_type": "code",
   "execution_count": 5,
   "metadata": {
    "execution": {
     "iopub.execute_input": "2022-02-02T22:17:33.362082Z",
     "iopub.status.busy": "2022-02-02T22:17:33.361816Z",
     "iopub.status.idle": "2022-02-02T22:17:33.604399Z",
     "shell.execute_reply": "2022-02-02T22:17:33.603411Z",
     "shell.execute_reply.started": "2022-02-02T22:17:33.362050Z"
    }
   },
   "outputs": [],
   "source": [
    "n_default = len(train[train.default==1])\n",
    "n_no_default = len(train) - n_default\n",
    "data_names = ['был дефолт', 'не было дефолта']\n",
    "data_values = np.array([n_default, n_no_default])\n",
    "dpi =100\n",
    "fig = plt.figure(dpi = dpi, figsize = (1024 / dpi, (384 * 2) / dpi) )\n",
    "mpl.rcParams.update({'font.size': 10})\n",
    "\n",
    "def make_autopct(values):\n",
    "    def my_autopct(pct):\n",
    "        total = sum(values)\n",
    "        val = int(round(pct*total/100.0))\n",
    "        return '{p:.2f}%  ({v:d})'.format(p=pct,v=val)\n",
    "    return my_autopct\n",
    "\n",
    "plt.title('Распределение дефолтов')\n",
    "plt.pie(data_values, labels = data_names, autopct= make_autopct(data_values))"
   ]
  },
  {
   "cell_type": "code",
   "execution_count": 27,
   "metadata": {
    "execution": {
     "iopub.execute_input": "2022-02-02T22:21:07.498646Z",
     "iopub.status.busy": "2022-02-02T22:21:07.498294Z",
     "iopub.status.idle": "2022-02-02T22:21:07.518647Z",
     "shell.execute_reply": "2022-02-02T22:21:07.517859Z",
     "shell.execute_reply.started": "2022-02-02T22:21:07.498612Z"
    }
   },
   "outputs": [],
   "source": [
    "train.head()"
   ]
  },
  {
   "cell_type": "markdown",
   "metadata": {},
   "source": [
    "Получим информацию о датасетах\n"
   ]
  },
  {
   "cell_type": "code",
   "execution_count": 28,
   "metadata": {
    "execution": {
     "iopub.execute_input": "2022-02-02T22:21:14.695770Z",
     "iopub.status.busy": "2022-02-02T22:21:14.694596Z",
     "iopub.status.idle": "2022-02-02T22:21:14.762194Z",
     "shell.execute_reply": "2022-02-02T22:21:14.761016Z",
     "shell.execute_reply.started": "2022-02-02T22:21:14.695712Z"
    }
   },
   "outputs": [],
   "source": [
    "train.info()"
   ]
  },
  {
   "cell_type": "code",
   "execution_count": 29,
   "metadata": {
    "execution": {
     "iopub.execute_input": "2022-02-02T22:21:16.680708Z",
     "iopub.status.busy": "2022-02-02T22:21:16.679880Z",
     "iopub.status.idle": "2022-02-02T22:21:16.730845Z",
     "shell.execute_reply": "2022-02-02T22:21:16.729958Z",
     "shell.execute_reply.started": "2022-02-02T22:21:16.680658Z"
    }
   },
   "outputs": [],
   "source": [
    "test.info()"
   ]
  },
  {
   "cell_type": "markdown",
   "metadata": {},
   "source": [
    "Видно, что пропуски есть только у education"
   ]
  },
  {
   "cell_type": "code",
   "execution_count": 31,
   "metadata": {
    "execution": {
     "iopub.execute_input": "2022-02-02T22:21:33.871515Z",
     "iopub.status.busy": "2022-02-02T22:21:33.871141Z",
     "iopub.status.idle": "2022-02-02T22:21:33.931850Z",
     "shell.execute_reply": "2022-02-02T22:21:33.931024Z",
     "shell.execute_reply.started": "2022-02-02T22:21:33.871472Z"
    }
   },
   "outputs": [],
   "source": [
    "train.isnull().sum() "
   ]
  },
  {
   "cell_type": "code",
   "execution_count": 32,
   "metadata": {
    "execution": {
     "iopub.execute_input": "2022-02-02T22:21:35.247252Z",
     "iopub.status.busy": "2022-02-02T22:21:35.246908Z",
     "iopub.status.idle": "2022-02-02T22:21:35.282230Z",
     "shell.execute_reply": "2022-02-02T22:21:35.281514Z",
     "shell.execute_reply.started": "2022-02-02T22:21:35.247219Z"
    }
   },
   "outputs": [],
   "source": [
    "test.isnull().sum()"
   ]
  },
  {
   "cell_type": "code",
   "execution_count": 33,
   "metadata": {
    "execution": {
     "iopub.execute_input": "2022-02-02T22:21:37.086630Z",
     "iopub.status.busy": "2022-02-02T22:21:37.086105Z",
     "iopub.status.idle": "2022-02-02T22:21:37.314732Z",
     "shell.execute_reply": "2022-02-02T22:21:37.313940Z",
     "shell.execute_reply.started": "2022-02-02T22:21:37.086598Z"
    }
   },
   "outputs": [],
   "source": [
    "train['education'].value_counts().plot.barh()"
   ]
  },
  {
   "cell_type": "code",
   "execution_count": 34,
   "metadata": {
    "execution": {
     "iopub.execute_input": "2022-02-02T22:21:41.486759Z",
     "iopub.status.busy": "2022-02-02T22:21:41.486084Z",
     "iopub.status.idle": "2022-02-02T22:21:41.507818Z",
     "shell.execute_reply": "2022-02-02T22:21:41.506850Z",
     "shell.execute_reply.started": "2022-02-02T22:21:41.486702Z"
    }
   },
   "outputs": [],
   "source": [
    "# пустые значения заменим на наиболее распространённое\n",
    "train.education.fillna('SCH', inplace=True)\n",
    "test.education.fillna('SCH', inplace=True)"
   ]
  },
  {
   "cell_type": "code",
   "execution_count": 35,
   "metadata": {
    "execution": {
     "iopub.execute_input": "2022-02-02T22:21:45.454443Z",
     "iopub.status.busy": "2022-02-02T22:21:45.453579Z",
     "iopub.status.idle": "2022-02-02T22:21:45.471374Z",
     "shell.execute_reply": "2022-02-02T22:21:45.470359Z",
     "shell.execute_reply.started": "2022-02-02T22:21:45.454360Z"
    }
   },
   "outputs": [],
   "source": [
    "train.education.isnull().sum()"
   ]
  },
  {
   "cell_type": "code",
   "execution_count": 36,
   "metadata": {
    "execution": {
     "iopub.execute_input": "2022-02-02T22:21:49.445007Z",
     "iopub.status.busy": "2022-02-02T22:21:49.444251Z",
     "iopub.status.idle": "2022-02-02T22:21:49.451887Z",
     "shell.execute_reply": "2022-02-02T22:21:49.450817Z",
     "shell.execute_reply.started": "2022-02-02T22:21:49.444947Z"
    }
   },
   "outputs": [],
   "source": [
    "# рассортируем признаки по типам\n",
    "\n",
    "num_cols = ['age', 'decline_app_cnt', 'score_bki','bki_request_cnt', 'income']\n",
    "bin_cols = ['sex', 'car', 'car_type', 'good_work', 'foreign_passport']\n",
    "cat_cols = ['education', 'first_time', 'sna', 'work_address', 'home_address', 'region_rating']"
   ]
  },
  {
   "cell_type": "markdown",
   "metadata": {},
   "source": [
    "**Числовые признаки**"
   ]
  },
  {
   "cell_type": "code",
   "execution_count": 37,
   "metadata": {
    "execution": {
     "iopub.execute_input": "2022-02-02T22:21:56.936019Z",
     "iopub.status.busy": "2022-02-02T22:21:56.935298Z",
     "iopub.status.idle": "2022-02-02T22:21:58.341964Z",
     "shell.execute_reply": "2022-02-02T22:21:58.340937Z",
     "shell.execute_reply.started": "2022-02-02T22:21:56.935957Z"
    }
   },
   "outputs": [],
   "source": [
    "for i in num_cols:\n",
    "    plt.figure()   \n",
    "    sns.distplot(train[i], kde = False, rug=False)\n",
    "    plt.title(i)\n",
    "    plt.show()"
   ]
  },
  {
   "cell_type": "markdown",
   "metadata": {},
   "source": [
    "большие хвосты -  прологарифмируем (кроме score_bki)"
   ]
  },
  {
   "cell_type": "code",
   "execution_count": 38,
   "metadata": {
    "execution": {
     "iopub.execute_input": "2022-02-02T22:22:31.669485Z",
     "iopub.status.busy": "2022-02-02T22:22:31.669129Z",
     "iopub.status.idle": "2022-02-02T22:22:33.292755Z",
     "shell.execute_reply": "2022-02-02T22:22:33.291661Z",
     "shell.execute_reply.started": "2022-02-02T22:22:31.669452Z"
    }
   },
   "outputs": [],
   "source": [
    "for i in num_cols:\n",
    "    if i != 'score_bki':\n",
    "        train[i] = np.log(train[i] + 1)\n",
    "        test[i] = np.log(test[i] + 1)\n",
    "    \n",
    "for i in num_cols:\n",
    "    plt.figure()    \n",
    "    sns.distplot(train[i], kde = False, rug=False)\n",
    "    plt.title(i)\n",
    "    plt.show()   \n",
    "    "
   ]
  },
  {
   "cell_type": "markdown",
   "metadata": {},
   "source": [
    "**Одномерные зависимости**"
   ]
  },
  {
   "cell_type": "code",
   "execution_count": 39,
   "metadata": {
    "execution": {
     "iopub.execute_input": "2022-02-02T22:22:43.047123Z",
     "iopub.status.busy": "2022-02-02T22:22:43.046749Z",
     "iopub.status.idle": "2022-02-02T22:22:43.209747Z",
     "shell.execute_reply": "2022-02-02T22:22:43.208563Z",
     "shell.execute_reply.started": "2022-02-02T22:22:43.047091Z"
    }
   },
   "outputs": [],
   "source": [
    "sns.boxplot(x=train.default, y=train.age)"
   ]
  },
  {
   "cell_type": "markdown",
   "metadata": {},
   "source": [
    "с возрастом клиенты становятся более надёжными"
   ]
  },
  {
   "cell_type": "code",
   "execution_count": 40,
   "metadata": {
    "execution": {
     "iopub.execute_input": "2022-02-02T22:22:47.701714Z",
     "iopub.status.busy": "2022-02-02T22:22:47.701157Z",
     "iopub.status.idle": "2022-02-02T22:22:47.943417Z",
     "shell.execute_reply": "2022-02-02T22:22:47.942733Z",
     "shell.execute_reply.started": "2022-02-02T22:22:47.701672Z"
    }
   },
   "outputs": [],
   "source": [
    "sns.boxplot(x=train.default, y=train.income)"
   ]
  },
  {
   "cell_type": "markdown",
   "metadata": {},
   "source": [
    "клиенты с большим доходом более надёжные"
   ]
  },
  {
   "cell_type": "code",
   "execution_count": 41,
   "metadata": {
    "execution": {
     "iopub.execute_input": "2022-02-02T22:22:51.812105Z",
     "iopub.status.busy": "2022-02-02T22:22:51.811509Z",
     "iopub.status.idle": "2022-02-02T22:22:52.046049Z",
     "shell.execute_reply": "2022-02-02T22:22:52.045293Z",
     "shell.execute_reply.started": "2022-02-02T22:22:51.812063Z"
    }
   },
   "outputs": [],
   "source": [
    "sns.boxplot(x=train.default, y=train.bki_request_cnt)"
   ]
  },
  {
   "cell_type": "markdown",
   "metadata": {},
   "source": [
    "кто чаще брал кредиты - те более надёжный"
   ]
  },
  {
   "cell_type": "code",
   "execution_count": 42,
   "metadata": {
    "execution": {
     "iopub.execute_input": "2022-02-02T22:22:54.956638Z",
     "iopub.status.busy": "2022-02-02T22:22:54.956068Z",
     "iopub.status.idle": "2022-02-02T22:22:55.225781Z",
     "shell.execute_reply": "2022-02-02T22:22:55.224946Z",
     "shell.execute_reply.started": "2022-02-02T22:22:54.956597Z"
    }
   },
   "outputs": [],
   "source": [
    "sns.boxplot(x=train.default, y=train.decline_app_cnt)"
   ]
  },
  {
   "cell_type": "markdown",
   "metadata": {},
   "source": [
    "чем больше количество отказов у заёмщика - тем менее он надёжен"
   ]
  },
  {
   "cell_type": "code",
   "execution_count": 43,
   "metadata": {
    "execution": {
     "iopub.execute_input": "2022-02-02T22:23:00.566350Z",
     "iopub.status.busy": "2022-02-02T22:23:00.565425Z",
     "iopub.status.idle": "2022-02-02T22:23:00.872886Z",
     "shell.execute_reply": "2022-02-02T22:23:00.872075Z",
     "shell.execute_reply.started": "2022-02-02T22:23:00.566297Z"
    }
   },
   "outputs": [],
   "source": [
    "sns.heatmap(train[num_cols].corr().abs(), vmin=0, vmax=1)"
   ]
  },
  {
   "cell_type": "markdown",
   "metadata": {},
   "source": [
    "числовые переменные имеют слабую корреляцию"
   ]
  },
  {
   "cell_type": "code",
   "execution_count": 44,
   "metadata": {
    "execution": {
     "iopub.execute_input": "2022-02-02T22:23:12.478534Z",
     "iopub.status.busy": "2022-02-02T22:23:12.477469Z",
     "iopub.status.idle": "2022-02-02T22:23:12.693871Z",
     "shell.execute_reply": "2022-02-02T22:23:12.692814Z",
     "shell.execute_reply.started": "2022-02-02T22:23:12.478450Z"
    }
   },
   "outputs": [],
   "source": [
    "imp_num = pd.Series(f_classif(train[num_cols], train['default'])[0], index = num_cols)\n",
    "imp_num.sort_values(inplace = True)\n",
    "imp_num.plot(kind = 'barh')"
   ]
  },
  {
   "cell_type": "markdown",
   "metadata": {},
   "source": [
    "самый значимый из числовых признаков - оценка заёмщика"
   ]
  },
  {
   "cell_type": "markdown",
   "metadata": {},
   "source": [
    "**бинарные и категориальные признаки**"
   ]
  },
  {
   "cell_type": "code",
   "execution_count": 45,
   "metadata": {
    "execution": {
     "iopub.execute_input": "2022-02-02T22:25:33.131021Z",
     "iopub.status.busy": "2022-02-02T22:25:33.130200Z",
     "iopub.status.idle": "2022-02-02T22:25:33.271208Z",
     "shell.execute_reply": "2022-02-02T22:25:33.270380Z",
     "shell.execute_reply.started": "2022-02-02T22:25:33.130968Z"
    }
   },
   "outputs": [],
   "source": [
    "# закодируем бинарные признаки и образование\n",
    "label_encoder = LabelEncoder()\n",
    "\n",
    "for column in bin_cols:\n",
    "    train[column] = label_encoder.fit_transform(train[column])\n",
    "    test[column] = label_encoder.fit_transform(test[column])\n",
    "    "
   ]
  },
  {
   "cell_type": "code",
   "execution_count": 46,
   "metadata": {
    "execution": {
     "iopub.execute_input": "2022-02-02T22:25:33.897116Z",
     "iopub.status.busy": "2022-02-02T22:25:33.896163Z",
     "iopub.status.idle": "2022-02-02T22:25:33.919767Z",
     "shell.execute_reply": "2022-02-02T22:25:33.918891Z",
     "shell.execute_reply.started": "2022-02-02T22:25:33.897061Z"
    }
   },
   "outputs": [],
   "source": [
    "train.head()"
   ]
  },
  {
   "cell_type": "code",
   "execution_count": 47,
   "metadata": {
    "execution": {
     "iopub.execute_input": "2022-02-02T22:25:41.930204Z",
     "iopub.status.busy": "2022-02-02T22:25:41.929458Z",
     "iopub.status.idle": "2022-02-02T22:25:41.975789Z",
     "shell.execute_reply": "2022-02-02T22:25:41.974771Z",
     "shell.execute_reply.started": "2022-02-02T22:25:41.930148Z"
    }
   },
   "outputs": [],
   "source": [
    "train['education'] = label_encoder.fit_transform(train['education'])\n",
    "test['education'] = label_encoder.fit_transform(test['education'])"
   ]
  },
  {
   "cell_type": "code",
   "execution_count": 48,
   "metadata": {
    "execution": {
     "iopub.execute_input": "2022-02-02T22:25:44.053168Z",
     "iopub.status.busy": "2022-02-02T22:25:44.052527Z",
     "iopub.status.idle": "2022-02-02T22:25:44.076687Z",
     "shell.execute_reply": "2022-02-02T22:25:44.075697Z",
     "shell.execute_reply.started": "2022-02-02T22:25:44.053111Z"
    }
   },
   "outputs": [],
   "source": [
    "train.head()"
   ]
  },
  {
   "cell_type": "code",
   "execution_count": null,
   "metadata": {},
   "outputs": [],
   "source": []
  },
  {
   "cell_type": "markdown",
   "metadata": {},
   "source": [
    "значимость категориальных и бинарных признаков"
   ]
  },
  {
   "cell_type": "code",
   "execution_count": 49,
   "metadata": {
    "execution": {
     "iopub.execute_input": "2022-02-02T22:26:01.874575Z",
     "iopub.status.busy": "2022-02-02T22:26:01.874179Z",
     "iopub.status.idle": "2022-02-02T22:26:02.286594Z",
     "shell.execute_reply": "2022-02-02T22:26:02.284511Z",
     "shell.execute_reply.started": "2022-02-02T22:26:01.874530Z"
    }
   },
   "outputs": [],
   "source": [
    "imp_cat = Series(mutual_info_classif(train[bin_cols + cat_cols], train['default'],\n",
    "                                     discrete_features =True), index = bin_cols + cat_cols)\n",
    "imp_cat.sort_values(inplace = True)\n",
    "imp_cat.plot(kind = 'barh')"
   ]
  },
  {
   "cell_type": "code",
   "execution_count": 50,
   "metadata": {
    "execution": {
     "iopub.execute_input": "2022-02-02T22:26:29.687662Z",
     "iopub.status.busy": "2022-02-02T22:26:29.687298Z",
     "iopub.status.idle": "2022-02-02T22:26:29.796288Z",
     "shell.execute_reply": "2022-02-02T22:26:29.795356Z",
     "shell.execute_reply.started": "2022-02-02T22:26:29.687619Z"
    }
   },
   "outputs": [],
   "source": [
    "# Категориальные признаки (кроме образования) закодируем dummy переменными с помошью  OneHotEncoder\n",
    "X_cat = OneHotEncoder(sparse = False).fit_transform(train[cat_cols].values)\n",
    "Xv_cat = OneHotEncoder(sparse = False).fit_transform(test[cat_cols].values)"
   ]
  },
  {
   "cell_type": "code",
   "execution_count": 51,
   "metadata": {
    "execution": {
     "iopub.execute_input": "2022-02-02T22:26:40.404054Z",
     "iopub.status.busy": "2022-02-02T22:26:40.403665Z",
     "iopub.status.idle": "2022-02-02T22:26:40.425470Z",
     "shell.execute_reply": "2022-02-02T22:26:40.424693Z",
     "shell.execute_reply.started": "2022-02-02T22:26:40.404018Z"
    }
   },
   "outputs": [],
   "source": [
    "# скалируем числовые данные\n",
    "X_num = StandardScaler().fit_transform(train[num_cols].values)\n",
    "Xv_num = StandardScaler().fit_transform(test[num_cols].values)"
   ]
  },
  {
   "cell_type": "markdown",
   "metadata": {},
   "source": [
    "**Объединение преобразованных данных и моделирование**"
   ]
  },
  {
   "cell_type": "code",
   "execution_count": 52,
   "metadata": {
    "execution": {
     "iopub.execute_input": "2022-02-02T22:26:49.984756Z",
     "iopub.status.busy": "2022-02-02T22:26:49.983700Z",
     "iopub.status.idle": "2022-02-02T22:26:50.005556Z",
     "shell.execute_reply": "2022-02-02T22:26:50.004677Z",
     "shell.execute_reply.started": "2022-02-02T22:26:49.984704Z"
    }
   },
   "outputs": [],
   "source": [
    "test.head()"
   ]
  },
  {
   "cell_type": "code",
   "execution_count": 53,
   "metadata": {
    "execution": {
     "iopub.execute_input": "2022-02-02T22:35:22.967126Z",
     "iopub.status.busy": "2022-02-02T22:35:22.966671Z",
     "iopub.status.idle": "2022-02-02T22:35:23.006503Z",
     "shell.execute_reply": "2022-02-02T22:35:23.005362Z",
     "shell.execute_reply.started": "2022-02-02T22:35:22.967082Z"
    }
   },
   "outputs": [],
   "source": [
    "#X_train = np.hstack([X_num, train[bin_cols].values, X_cat])\n",
    "#X_test = np.hstack([Xv_num, test[bin_cols].values, Xv_cat])\n",
    "#y_train = train['default'].values\n",
    "#y_true = test['default'].values\n",
    "\n",
    "X = np.hstack([X_num, train[bin_cols].values, X_cat])\n",
    "y = train['default'].values\n",
    "\n",
    "#X_test = np.hstack([Xv_num, test[bin_cols].values, Xv_cat])\n",
    "#y_train = train['default'].values"
   ]
  },
  {
   "cell_type": "code",
   "execution_count": 58,
   "metadata": {
    "execution": {
     "iopub.execute_input": "2022-02-02T22:41:29.409893Z",
     "iopub.status.busy": "2022-02-02T22:41:29.409465Z",
     "iopub.status.idle": "2022-02-02T22:41:29.428317Z",
     "shell.execute_reply": "2022-02-02T22:41:29.427215Z",
     "shell.execute_reply.started": "2022-02-02T22:41:29.409821Z"
    }
   },
   "outputs": [],
   "source": [
    "test_data = np.hstack([Xv_num, test[bin_cols].values, Xv_cat])"
   ]
  },
  {
   "cell_type": "code",
   "execution_count": 54,
   "metadata": {
    "execution": {
     "iopub.execute_input": "2022-02-02T22:35:28.513408Z",
     "iopub.status.busy": "2022-02-02T22:35:28.513035Z",
     "iopub.status.idle": "2022-02-02T22:35:28.549841Z",
     "shell.execute_reply": "2022-02-02T22:35:28.548849Z",
     "shell.execute_reply.started": "2022-02-02T22:35:28.513365Z"
    }
   },
   "outputs": [],
   "source": [
    "# Воспользуемся специальной функцие train_test_split для разбивки тестовых данных\n",
    "from sklearn.model_selection import train_test_split\n",
    "\n",
    "# выделим 20% данных на валидацию (параметр test_size)\n",
    "X_train, X_test, y_train, y_test = train_test_split(X, y, test_size=0.2, random_state=42)"
   ]
  },
  {
   "cell_type": "code",
   "execution_count": 55,
   "metadata": {
    "execution": {
     "iopub.execute_input": "2022-02-02T22:37:55.361678Z",
     "iopub.status.busy": "2022-02-02T22:37:55.361240Z",
     "iopub.status.idle": "2022-02-02T22:37:55.367453Z",
     "shell.execute_reply": "2022-02-02T22:37:55.366298Z",
     "shell.execute_reply.started": "2022-02-02T22:37:55.361633Z"
    }
   },
   "outputs": [],
   "source": [
    "from sklearn.linear_model import LogisticRegression # инструмент для создания и обучения модели\n",
    "from sklearn import metrics # инструменты для оценки точности модели"
   ]
  },
  {
   "cell_type": "code",
   "execution_count": 56,
   "metadata": {
    "execution": {
     "iopub.execute_input": "2022-02-02T22:38:24.096715Z",
     "iopub.status.busy": "2022-02-02T22:38:24.095748Z",
     "iopub.status.idle": "2022-02-02T22:38:24.768752Z",
     "shell.execute_reply": "2022-02-02T22:38:24.767431Z",
     "shell.execute_reply.started": "2022-02-02T22:38:24.096658Z"
    }
   },
   "outputs": [],
   "source": [
    "logreg = LogisticRegression(solver='liblinear', max_iter=1000)\n",
    "logreg.fit(X_train, y_train)\n",
    "y_pred = logreg.predict(X_test)"
   ]
  },
  {
   "cell_type": "code",
   "execution_count": 57,
   "metadata": {
    "execution": {
     "iopub.execute_input": "2022-02-02T22:38:54.832237Z",
     "iopub.status.busy": "2022-02-02T22:38:54.831857Z",
     "iopub.status.idle": "2022-02-02T22:38:54.863554Z",
     "shell.execute_reply": "2022-02-02T22:38:54.862467Z",
     "shell.execute_reply.started": "2022-02-02T22:38:54.832203Z"
    }
   },
   "outputs": [],
   "source": [
    "from sklearn.metrics import classification_report\n",
    "classification_report = classification_report(y_test, y_pred)\n",
    "print(classification_report)"
   ]
  },
  {
   "cell_type": "code",
   "execution_count": 63,
   "metadata": {
    "execution": {
     "iopub.execute_input": "2022-02-02T23:07:00.073033Z",
     "iopub.status.busy": "2022-02-02T23:07:00.072586Z",
     "iopub.status.idle": "2022-02-02T23:07:00.345746Z",
     "shell.execute_reply": "2022-02-02T23:07:00.344737Z",
     "shell.execute_reply.started": "2022-02-02T23:07:00.072996Z"
    }
   },
   "outputs": [],
   "source": [
    "proba = logreg.predict_proba(X_test)\n",
    "proba = proba[:,1]\n",
    "\n",
    "fpr, tpr, threshold = roc_curve(y_test, proba)\n",
    "roc_auc = roc_auc_score(y_test, proba)\n",
    "\n",
    "plt.figure()\n",
    "plt.plot([0, 1], label='Baseline', linestyle='--')\n",
    "plt.plot(fpr, tpr, label = 'Regression')\n",
    "plt.title('Logistic Regression ROC AUC = %0.3f' % roc_auc)\n",
    "plt.ylabel('True Positive Rate')\n",
    "plt.xlabel('False Positive Rate')\n",
    "plt.legend(loc = 'lower right')\n",
    "plt.show()"
   ]
  },
  {
   "cell_type": "code",
   "execution_count": 81,
   "metadata": {
    "execution": {
     "iopub.execute_input": "2022-02-03T00:13:02.836681Z",
     "iopub.status.busy": "2022-02-03T00:13:02.836279Z",
     "iopub.status.idle": "2022-02-03T00:36:01.053231Z",
     "shell.execute_reply": "2022-02-03T00:36:01.052009Z",
     "shell.execute_reply.started": "2022-02-03T00:13:02.836646Z"
    }
   },
   "outputs": [],
   "source": [
    "from sklearn.model_selection import GridSearchCV\n",
    "\n",
    "model = LogisticRegression()\n",
    "\n",
    "iter_ = 500\n",
    "epsilon_stop = 1e-4\n",
    "\n",
    "param_grid = [\n",
    "    {\n",
    "        'penalty': ['l1'],\n",
    "        'solver': ['liblinear', 'saga'],\n",
    "        'class_weight':['none', 'balanced'], \n",
    "        'multi_class': ['auto','ovr'],\n",
    "        'C': [ 0.01, 0.1, 0.5, 1, 2, 10, 100],\n",
    "        'max_iter':[iter_],\n",
    "        'tol':[epsilon_stop]\n",
    "    },\n",
    "    {\n",
    "        'penalty': ['l2'],\n",
    "        'solver': ['newton-cg', 'lbfgs', 'liblinear', 'sag', 'saga'],\n",
    "        'class_weight':['none', 'balanced'], \n",
    "        'multi_class': ['auto','ovr'],\n",
    "        'C': [ 0.01, 0.1, 0.5, 1, 2, 10, 100],\n",
    "        'max_iter':[iter_],\n",
    "        'tol':[epsilon_stop]\n",
    "    },\n",
    "    {\n",
    "        'penalty': ['none'],\n",
    "        'solver': ['newton-cg', 'lbfgs', 'sag', 'saga'],\n",
    "        'class_weight':['none', 'balanced'], \n",
    "        'multi_class': ['auto','ovr'],\n",
    "        'max_iter':[iter_],\n",
    "        'tol':[epsilon_stop]\n",
    "    },\n",
    "    {\n",
    "        'penalty': ['elasticnet'],\n",
    "        'solver': ['saga'],\n",
    "        'class_weight':['none', 'balanced'], \n",
    "        'multi_class': ['auto','ovr'],\n",
    "        'C': [ 0.01, 0.1, 0.5, 1, 2, 10, 100],\n",
    "        'max_iter':[iter_],\n",
    "        'tol':[epsilon_stop]\n",
    "\n",
    "    },\n",
    "]\n",
    "\n",
    "gridsearch = GridSearchCV(model, param_grid, scoring='f1', n_jobs=-1, cv=5)\n",
    "\n",
    "gridsearch.fit(X_train, y_train)\n",
    "model = gridsearch.best_estimator_\n",
    "\n"
   ]
  },
  {
   "cell_type": "code",
   "execution_count": 82,
   "metadata": {
    "execution": {
     "iopub.execute_input": "2022-02-03T00:38:33.173274Z",
     "iopub.status.busy": "2022-02-03T00:38:33.172193Z",
     "iopub.status.idle": "2022-02-03T00:38:33.182302Z",
     "shell.execute_reply": "2022-02-03T00:38:33.181530Z",
     "shell.execute_reply.started": "2022-02-03T00:38:33.173208Z"
    }
   },
   "outputs": [],
   "source": [
    "##печатаем параметры\n",
    "best_parameters = model.get_params()\n",
    "for param_name in sorted(best_parameters.keys()):\n",
    "        print('\\t%s: %r' % (param_name, best_parameters[param_name]))"
   ]
  },
  {
   "cell_type": "code",
   "execution_count": 83,
   "metadata": {
    "execution": {
     "iopub.execute_input": "2022-02-03T00:38:54.418671Z",
     "iopub.status.busy": "2022-02-03T00:38:54.418070Z",
     "iopub.status.idle": "2022-02-03T00:38:55.872025Z",
     "shell.execute_reply": "2022-02-03T00:38:55.871032Z",
     "shell.execute_reply.started": "2022-02-03T00:38:54.418629Z"
    }
   },
   "outputs": [],
   "source": [
    "model.fit(X_train, y_train)\n",
    "y_pred = model.predict(X_test)\n",
    "\n",
    "from sklearn.metrics import classification_report\n",
    "classification_report = classification_report(y_test, y_pred)\n",
    "print(classification_report)"
   ]
  },
  {
   "cell_type": "markdown",
   "metadata": {},
   "source": [
    "***после поиска лучших гиперпараметров результат стал лучше!***"
   ]
  },
  {
   "cell_type": "markdown",
   "metadata": {},
   "source": [
    "**финальный результат**"
   ]
  },
  {
   "cell_type": "code",
   "execution_count": 84,
   "metadata": {
    "execution": {
     "iopub.execute_input": "2022-02-03T00:39:04.263375Z",
     "iopub.status.busy": "2022-02-03T00:39:04.262453Z",
     "iopub.status.idle": "2022-02-03T00:39:06.062736Z",
     "shell.execute_reply": "2022-02-03T00:39:06.061634Z",
     "shell.execute_reply.started": "2022-02-03T00:39:04.263322Z"
    }
   },
   "outputs": [],
   "source": [
    "logreg_final = model\n",
    "logreg_final.fit(X, y)"
   ]
  },
  {
   "cell_type": "code",
   "execution_count": 85,
   "metadata": {
    "execution": {
     "iopub.execute_input": "2022-02-03T00:39:08.477147Z",
     "iopub.status.busy": "2022-02-03T00:39:08.476481Z",
     "iopub.status.idle": "2022-02-03T00:39:08.486605Z",
     "shell.execute_reply": "2022-02-03T00:39:08.485343Z",
     "shell.execute_reply.started": "2022-02-03T00:39:08.477069Z"
    }
   },
   "outputs": [],
   "source": [
    "predict_submission = logreg_final.predict(test_data)"
   ]
  },
  {
   "cell_type": "code",
   "execution_count": 86,
   "metadata": {
    "execution": {
     "iopub.execute_input": "2022-02-03T00:39:13.019248Z",
     "iopub.status.busy": "2022-02-03T00:39:13.018868Z",
     "iopub.status.idle": "2022-02-03T00:39:13.100365Z",
     "shell.execute_reply": "2022-02-03T00:39:13.099376Z",
     "shell.execute_reply.started": "2022-02-03T00:39:13.019211Z"
    }
   },
   "outputs": [],
   "source": [
    "sample_submission['default'] = predict_submission\n",
    "sample_submission.to_csv('submission.csv', index=False)\n",
    "sample_submission.head(10)"
   ]
  },
  {
   "cell_type": "code",
   "execution_count": null,
   "metadata": {},
   "outputs": [],
   "source": []
  }
 ],
 "metadata": {
  "kernelspec": {
   "display_name": "Python 3",
   "language": "python",
   "name": "python3"
  },
  "language_info": {
   "codemirror_mode": {
    "name": "ipython",
    "version": 3
   },
   "file_extension": ".py",
   "mimetype": "text/x-python",
   "name": "python",
   "nbconvert_exporter": "python",
   "pygments_lexer": "ipython3",
   "version": "3.6.8"
  }
 },
 "nbformat": 4,
 "nbformat_minor": 4
}
